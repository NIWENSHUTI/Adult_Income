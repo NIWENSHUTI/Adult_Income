{
 "cells": [
  {
   "cell_type": "markdown",
   "id": "869e96ca-92b4-49ae-9d18-da9fbcb3702c",
   "metadata": {},
   "source": [
    "# UCI Adult Income Dataset - Data cleaning and Preprocessing \n",
    "This notebook is focused on the data preparation ,cleaning and preprocessing for the UCI Adult Income Dataset."
   ]
  },
  {
   "cell_type": "code",
   "execution_count": 103,
   "id": "e43fe2cd-9cf6-4f11-9e55-5f765ba71806",
   "metadata": {},
   "outputs": [],
   "source": [
    "# import libraries\n",
    "import pandas as pd\n",
    "import numpy as np\n",
    "import os"
   ]
  },
  {
   "cell_type": "code",
   "execution_count": 104,
   "id": "94deaa91-20bd-4b49-bb15-07be7b4144c0",
   "metadata": {},
   "outputs": [],
   "source": [
    "# get working directory \n",
    "Current_dir = os.getcwd()\n",
    "# on one directory up to the root directory \n",
    "project_root_dir = os.path.dirname(Current_dir)\n",
    "# define paths to the data folders\n",
    "data_dir = os.path.join(project_root_dir,'data')\n",
    "raw_dir = os.path.join(data_dir,'raw')\n",
    "processed_dir = os.path.join(data_dir,'processed')\n",
    "# define paths to result folder \n",
    "results_dir = os.path.join(project_root_dir,'results')\n",
    "# define paths to docs folder \n",
    "docs_dir = os.path.join(project_root_dir,'docs')\n",
    "\n",
    "# create directories if they do not eFileExists \n",
    "os.makedirs(raw_dir, exist_ok = True)\n",
    "os.makedirs(processed_dir, exist_ok = True)\n",
    "os.makedirs(results_dir, exist_ok = True)\n",
    "os.makedirs(docs_dir, exist_ok = True)"
   ]
  },
  {
   "cell_type": "markdown",
   "id": "32e56234-5cf1-4eba-8f7a-1e72a87df3e2",
   "metadata": {},
   "source": [
    "# Read in the data"
   ]
  },
  {
   "cell_type": "code",
   "execution_count": 204,
   "id": "5999a8c0-50de-4949-9cf9-02aef998e3cc",
   "metadata": {},
   "outputs": [
    {
     "data": {
      "text/html": [
       "<div>\n",
       "<style scoped>\n",
       "    .dataframe tbody tr th:only-of-type {\n",
       "        vertical-align: middle;\n",
       "    }\n",
       "\n",
       "    .dataframe tbody tr th {\n",
       "        vertical-align: top;\n",
       "    }\n",
       "\n",
       "    .dataframe thead th {\n",
       "        text-align: right;\n",
       "    }\n",
       "</style>\n",
       "<table border=\"1\" class=\"dataframe\">\n",
       "  <thead>\n",
       "    <tr style=\"text-align: right;\">\n",
       "      <th></th>\n",
       "      <th>0</th>\n",
       "      <th>1</th>\n",
       "      <th>2</th>\n",
       "      <th>3</th>\n",
       "      <th>4</th>\n",
       "      <th>5</th>\n",
       "      <th>6</th>\n",
       "      <th>7</th>\n",
       "      <th>8</th>\n",
       "      <th>9</th>\n",
       "      <th>10</th>\n",
       "      <th>11</th>\n",
       "      <th>12</th>\n",
       "      <th>13</th>\n",
       "      <th>14</th>\n",
       "    </tr>\n",
       "  </thead>\n",
       "  <tbody>\n",
       "    <tr>\n",
       "      <th>0</th>\n",
       "      <td>39</td>\n",
       "      <td>State-gov</td>\n",
       "      <td>77516</td>\n",
       "      <td>Bachelors</td>\n",
       "      <td>13</td>\n",
       "      <td>Never-married</td>\n",
       "      <td>Adm-clerical</td>\n",
       "      <td>Not-in-family</td>\n",
       "      <td>White</td>\n",
       "      <td>Male</td>\n",
       "      <td>2174</td>\n",
       "      <td>0</td>\n",
       "      <td>40</td>\n",
       "      <td>United-States</td>\n",
       "      <td>&lt;=50K</td>\n",
       "    </tr>\n",
       "    <tr>\n",
       "      <th>1</th>\n",
       "      <td>50</td>\n",
       "      <td>Self-emp-not-inc</td>\n",
       "      <td>83311</td>\n",
       "      <td>Bachelors</td>\n",
       "      <td>13</td>\n",
       "      <td>Married-civ-spouse</td>\n",
       "      <td>Exec-managerial</td>\n",
       "      <td>Husband</td>\n",
       "      <td>White</td>\n",
       "      <td>Male</td>\n",
       "      <td>0</td>\n",
       "      <td>0</td>\n",
       "      <td>13</td>\n",
       "      <td>United-States</td>\n",
       "      <td>&lt;=50K</td>\n",
       "    </tr>\n",
       "    <tr>\n",
       "      <th>2</th>\n",
       "      <td>38</td>\n",
       "      <td>Private</td>\n",
       "      <td>215646</td>\n",
       "      <td>HS-grad</td>\n",
       "      <td>9</td>\n",
       "      <td>Divorced</td>\n",
       "      <td>Handlers-cleaners</td>\n",
       "      <td>Not-in-family</td>\n",
       "      <td>White</td>\n",
       "      <td>Male</td>\n",
       "      <td>0</td>\n",
       "      <td>0</td>\n",
       "      <td>40</td>\n",
       "      <td>United-States</td>\n",
       "      <td>&lt;=50K</td>\n",
       "    </tr>\n",
       "    <tr>\n",
       "      <th>3</th>\n",
       "      <td>53</td>\n",
       "      <td>Private</td>\n",
       "      <td>234721</td>\n",
       "      <td>11th</td>\n",
       "      <td>7</td>\n",
       "      <td>Married-civ-spouse</td>\n",
       "      <td>Handlers-cleaners</td>\n",
       "      <td>Husband</td>\n",
       "      <td>Black</td>\n",
       "      <td>Male</td>\n",
       "      <td>0</td>\n",
       "      <td>0</td>\n",
       "      <td>40</td>\n",
       "      <td>United-States</td>\n",
       "      <td>&lt;=50K</td>\n",
       "    </tr>\n",
       "    <tr>\n",
       "      <th>4</th>\n",
       "      <td>28</td>\n",
       "      <td>Private</td>\n",
       "      <td>338409</td>\n",
       "      <td>Bachelors</td>\n",
       "      <td>13</td>\n",
       "      <td>Married-civ-spouse</td>\n",
       "      <td>Prof-specialty</td>\n",
       "      <td>Wife</td>\n",
       "      <td>Black</td>\n",
       "      <td>Female</td>\n",
       "      <td>0</td>\n",
       "      <td>0</td>\n",
       "      <td>40</td>\n",
       "      <td>Cuba</td>\n",
       "      <td>&lt;=50K</td>\n",
       "    </tr>\n",
       "    <tr>\n",
       "      <th>5</th>\n",
       "      <td>37</td>\n",
       "      <td>Private</td>\n",
       "      <td>284582</td>\n",
       "      <td>Masters</td>\n",
       "      <td>14</td>\n",
       "      <td>Married-civ-spouse</td>\n",
       "      <td>Exec-managerial</td>\n",
       "      <td>Wife</td>\n",
       "      <td>White</td>\n",
       "      <td>Female</td>\n",
       "      <td>0</td>\n",
       "      <td>0</td>\n",
       "      <td>40</td>\n",
       "      <td>United-States</td>\n",
       "      <td>&lt;=50K</td>\n",
       "    </tr>\n",
       "    <tr>\n",
       "      <th>6</th>\n",
       "      <td>49</td>\n",
       "      <td>Private</td>\n",
       "      <td>160187</td>\n",
       "      <td>9th</td>\n",
       "      <td>5</td>\n",
       "      <td>Married-spouse-absent</td>\n",
       "      <td>Other-service</td>\n",
       "      <td>Not-in-family</td>\n",
       "      <td>Black</td>\n",
       "      <td>Female</td>\n",
       "      <td>0</td>\n",
       "      <td>0</td>\n",
       "      <td>16</td>\n",
       "      <td>Jamaica</td>\n",
       "      <td>&lt;=50K</td>\n",
       "    </tr>\n",
       "    <tr>\n",
       "      <th>7</th>\n",
       "      <td>52</td>\n",
       "      <td>Self-emp-not-inc</td>\n",
       "      <td>209642</td>\n",
       "      <td>HS-grad</td>\n",
       "      <td>9</td>\n",
       "      <td>Married-civ-spouse</td>\n",
       "      <td>Exec-managerial</td>\n",
       "      <td>Husband</td>\n",
       "      <td>White</td>\n",
       "      <td>Male</td>\n",
       "      <td>0</td>\n",
       "      <td>0</td>\n",
       "      <td>45</td>\n",
       "      <td>United-States</td>\n",
       "      <td>&gt;50K</td>\n",
       "    </tr>\n",
       "    <tr>\n",
       "      <th>8</th>\n",
       "      <td>31</td>\n",
       "      <td>Private</td>\n",
       "      <td>45781</td>\n",
       "      <td>Masters</td>\n",
       "      <td>14</td>\n",
       "      <td>Never-married</td>\n",
       "      <td>Prof-specialty</td>\n",
       "      <td>Not-in-family</td>\n",
       "      <td>White</td>\n",
       "      <td>Female</td>\n",
       "      <td>14084</td>\n",
       "      <td>0</td>\n",
       "      <td>50</td>\n",
       "      <td>United-States</td>\n",
       "      <td>&gt;50K</td>\n",
       "    </tr>\n",
       "    <tr>\n",
       "      <th>9</th>\n",
       "      <td>42</td>\n",
       "      <td>Private</td>\n",
       "      <td>159449</td>\n",
       "      <td>Bachelors</td>\n",
       "      <td>13</td>\n",
       "      <td>Married-civ-spouse</td>\n",
       "      <td>Exec-managerial</td>\n",
       "      <td>Husband</td>\n",
       "      <td>White</td>\n",
       "      <td>Male</td>\n",
       "      <td>5178</td>\n",
       "      <td>0</td>\n",
       "      <td>40</td>\n",
       "      <td>United-States</td>\n",
       "      <td>&gt;50K</td>\n",
       "    </tr>\n",
       "  </tbody>\n",
       "</table>\n",
       "</div>"
      ],
      "text/plain": [
       "   0                 1       2          3   4                      5   \\\n",
       "0  39         State-gov   77516  Bachelors  13          Never-married   \n",
       "1  50  Self-emp-not-inc   83311  Bachelors  13     Married-civ-spouse   \n",
       "2  38           Private  215646    HS-grad   9               Divorced   \n",
       "3  53           Private  234721       11th   7     Married-civ-spouse   \n",
       "4  28           Private  338409  Bachelors  13     Married-civ-spouse   \n",
       "5  37           Private  284582    Masters  14     Married-civ-spouse   \n",
       "6  49           Private  160187        9th   5  Married-spouse-absent   \n",
       "7  52  Self-emp-not-inc  209642    HS-grad   9     Married-civ-spouse   \n",
       "8  31           Private   45781    Masters  14          Never-married   \n",
       "9  42           Private  159449  Bachelors  13     Married-civ-spouse   \n",
       "\n",
       "                  6              7      8       9      10  11  12  \\\n",
       "0       Adm-clerical  Not-in-family  White    Male   2174   0  40   \n",
       "1    Exec-managerial        Husband  White    Male      0   0  13   \n",
       "2  Handlers-cleaners  Not-in-family  White    Male      0   0  40   \n",
       "3  Handlers-cleaners        Husband  Black    Male      0   0  40   \n",
       "4     Prof-specialty           Wife  Black  Female      0   0  40   \n",
       "5    Exec-managerial           Wife  White  Female      0   0  40   \n",
       "6      Other-service  Not-in-family  Black  Female      0   0  16   \n",
       "7    Exec-managerial        Husband  White    Male      0   0  45   \n",
       "8     Prof-specialty  Not-in-family  White  Female  14084   0  50   \n",
       "9    Exec-managerial        Husband  White    Male   5178   0  40   \n",
       "\n",
       "              13     14  \n",
       "0  United-States  <=50K  \n",
       "1  United-States  <=50K  \n",
       "2  United-States  <=50K  \n",
       "3  United-States  <=50K  \n",
       "4           Cuba  <=50K  \n",
       "5  United-States  <=50K  \n",
       "6        Jamaica  <=50K  \n",
       "7  United-States   >50K  \n",
       "8  United-States   >50K  \n",
       "9  United-States   >50K  "
      ]
     },
     "execution_count": 204,
     "metadata": {},
     "output_type": "execute_result"
    }
   ],
   "source": [
    "adult_data_filename = os.path.join(raw_dir,'adult.csv')\n",
    "adult_df = pd.read_csv(adult_data_filename, header = None, na_values = '?', skipinitialspace = 'True')\n",
    "adult_df.head(10)"
   ]
  },
  {
   "cell_type": "code",
   "execution_count": 205,
   "id": "6c734ed2-d508-47b9-b419-10be7d3586e3",
   "metadata": {},
   "outputs": [
    {
     "data": {
      "text/plain": [
       "(32561, 15)"
      ]
     },
     "execution_count": 205,
     "metadata": {},
     "output_type": "execute_result"
    }
   ],
   "source": [
    "adult_df.shape"
   ]
  },
  {
   "cell_type": "code",
   "execution_count": 206,
   "id": "71180873-868f-460e-8bce-03fd7e0b8831",
   "metadata": {},
   "outputs": [
    {
     "name": "stdout",
     "output_type": "stream",
     "text": [
      "<class 'pandas.core.frame.DataFrame'>\n",
      "RangeIndex: 32561 entries, 0 to 32560\n",
      "Data columns (total 15 columns):\n",
      " #   Column  Non-Null Count  Dtype \n",
      "---  ------  --------------  ----- \n",
      " 0   0       32561 non-null  int64 \n",
      " 1   1       30725 non-null  object\n",
      " 2   2       32561 non-null  int64 \n",
      " 3   3       32561 non-null  object\n",
      " 4   4       32561 non-null  int64 \n",
      " 5   5       32561 non-null  object\n",
      " 6   6       30718 non-null  object\n",
      " 7   7       32561 non-null  object\n",
      " 8   8       32561 non-null  object\n",
      " 9   9       32561 non-null  object\n",
      " 10  10      32561 non-null  int64 \n",
      " 11  11      32561 non-null  int64 \n",
      " 12  12      32561 non-null  int64 \n",
      " 13  13      31978 non-null  object\n",
      " 14  14      32561 non-null  object\n",
      "dtypes: int64(6), object(9)\n",
      "memory usage: 3.7+ MB\n"
     ]
    }
   ],
   "source": [
    "adult_df.info()"
   ]
  },
  {
   "cell_type": "markdown",
   "id": "6976492c-7982-4bf4-9b89-fdfce82197dc",
   "metadata": {},
   "source": [
    "## Data cleaning \n",
    "# Assign proper column names to the columns"
   ]
  },
  {
   "cell_type": "code",
   "execution_count": 208,
   "id": "c601c140-e0cd-463b-ab6b-ba98a3a0946f",
   "metadata": {},
   "outputs": [],
   "source": [
    "adult_df.columns = [\"age\",\"workclass\",\"fnwgt\",\"education\",\"education_num\",\"marital_status\",\"occupation\",\n",
    "                    \"relationship\",\"race\",\"sex\",\"capital_gain\",\"capital_loss\",\"hours_per_week\",\"native_country\",\"income\"]\n"
   ]
  },
  {
   "cell_type": "code",
   "execution_count": 209,
   "id": "94182da4-517d-47f6-8eed-0476da2eacf3",
   "metadata": {},
   "outputs": [
    {
     "data": {
      "text/html": [
       "<div>\n",
       "<style scoped>\n",
       "    .dataframe tbody tr th:only-of-type {\n",
       "        vertical-align: middle;\n",
       "    }\n",
       "\n",
       "    .dataframe tbody tr th {\n",
       "        vertical-align: top;\n",
       "    }\n",
       "\n",
       "    .dataframe thead th {\n",
       "        text-align: right;\n",
       "    }\n",
       "</style>\n",
       "<table border=\"1\" class=\"dataframe\">\n",
       "  <thead>\n",
       "    <tr style=\"text-align: right;\">\n",
       "      <th></th>\n",
       "      <th>age</th>\n",
       "      <th>workclass</th>\n",
       "      <th>fnwgt</th>\n",
       "      <th>education</th>\n",
       "      <th>education_num</th>\n",
       "      <th>marital_status</th>\n",
       "      <th>occupation</th>\n",
       "      <th>relationship</th>\n",
       "      <th>race</th>\n",
       "      <th>sex</th>\n",
       "      <th>capital_gain</th>\n",
       "      <th>capital_loss</th>\n",
       "      <th>hours_per_week</th>\n",
       "      <th>native_country</th>\n",
       "      <th>income</th>\n",
       "    </tr>\n",
       "  </thead>\n",
       "  <tbody>\n",
       "    <tr>\n",
       "      <th>0</th>\n",
       "      <td>39</td>\n",
       "      <td>State-gov</td>\n",
       "      <td>77516</td>\n",
       "      <td>Bachelors</td>\n",
       "      <td>13</td>\n",
       "      <td>Never-married</td>\n",
       "      <td>Adm-clerical</td>\n",
       "      <td>Not-in-family</td>\n",
       "      <td>White</td>\n",
       "      <td>Male</td>\n",
       "      <td>2174</td>\n",
       "      <td>0</td>\n",
       "      <td>40</td>\n",
       "      <td>United-States</td>\n",
       "      <td>&lt;=50K</td>\n",
       "    </tr>\n",
       "    <tr>\n",
       "      <th>1</th>\n",
       "      <td>50</td>\n",
       "      <td>Self-emp-not-inc</td>\n",
       "      <td>83311</td>\n",
       "      <td>Bachelors</td>\n",
       "      <td>13</td>\n",
       "      <td>Married-civ-spouse</td>\n",
       "      <td>Exec-managerial</td>\n",
       "      <td>Husband</td>\n",
       "      <td>White</td>\n",
       "      <td>Male</td>\n",
       "      <td>0</td>\n",
       "      <td>0</td>\n",
       "      <td>13</td>\n",
       "      <td>United-States</td>\n",
       "      <td>&lt;=50K</td>\n",
       "    </tr>\n",
       "    <tr>\n",
       "      <th>2</th>\n",
       "      <td>38</td>\n",
       "      <td>Private</td>\n",
       "      <td>215646</td>\n",
       "      <td>HS-grad</td>\n",
       "      <td>9</td>\n",
       "      <td>Divorced</td>\n",
       "      <td>Handlers-cleaners</td>\n",
       "      <td>Not-in-family</td>\n",
       "      <td>White</td>\n",
       "      <td>Male</td>\n",
       "      <td>0</td>\n",
       "      <td>0</td>\n",
       "      <td>40</td>\n",
       "      <td>United-States</td>\n",
       "      <td>&lt;=50K</td>\n",
       "    </tr>\n",
       "    <tr>\n",
       "      <th>3</th>\n",
       "      <td>53</td>\n",
       "      <td>Private</td>\n",
       "      <td>234721</td>\n",
       "      <td>11th</td>\n",
       "      <td>7</td>\n",
       "      <td>Married-civ-spouse</td>\n",
       "      <td>Handlers-cleaners</td>\n",
       "      <td>Husband</td>\n",
       "      <td>Black</td>\n",
       "      <td>Male</td>\n",
       "      <td>0</td>\n",
       "      <td>0</td>\n",
       "      <td>40</td>\n",
       "      <td>United-States</td>\n",
       "      <td>&lt;=50K</td>\n",
       "    </tr>\n",
       "    <tr>\n",
       "      <th>4</th>\n",
       "      <td>28</td>\n",
       "      <td>Private</td>\n",
       "      <td>338409</td>\n",
       "      <td>Bachelors</td>\n",
       "      <td>13</td>\n",
       "      <td>Married-civ-spouse</td>\n",
       "      <td>Prof-specialty</td>\n",
       "      <td>Wife</td>\n",
       "      <td>Black</td>\n",
       "      <td>Female</td>\n",
       "      <td>0</td>\n",
       "      <td>0</td>\n",
       "      <td>40</td>\n",
       "      <td>Cuba</td>\n",
       "      <td>&lt;=50K</td>\n",
       "    </tr>\n",
       "    <tr>\n",
       "      <th>5</th>\n",
       "      <td>37</td>\n",
       "      <td>Private</td>\n",
       "      <td>284582</td>\n",
       "      <td>Masters</td>\n",
       "      <td>14</td>\n",
       "      <td>Married-civ-spouse</td>\n",
       "      <td>Exec-managerial</td>\n",
       "      <td>Wife</td>\n",
       "      <td>White</td>\n",
       "      <td>Female</td>\n",
       "      <td>0</td>\n",
       "      <td>0</td>\n",
       "      <td>40</td>\n",
       "      <td>United-States</td>\n",
       "      <td>&lt;=50K</td>\n",
       "    </tr>\n",
       "    <tr>\n",
       "      <th>6</th>\n",
       "      <td>49</td>\n",
       "      <td>Private</td>\n",
       "      <td>160187</td>\n",
       "      <td>9th</td>\n",
       "      <td>5</td>\n",
       "      <td>Married-spouse-absent</td>\n",
       "      <td>Other-service</td>\n",
       "      <td>Not-in-family</td>\n",
       "      <td>Black</td>\n",
       "      <td>Female</td>\n",
       "      <td>0</td>\n",
       "      <td>0</td>\n",
       "      <td>16</td>\n",
       "      <td>Jamaica</td>\n",
       "      <td>&lt;=50K</td>\n",
       "    </tr>\n",
       "    <tr>\n",
       "      <th>7</th>\n",
       "      <td>52</td>\n",
       "      <td>Self-emp-not-inc</td>\n",
       "      <td>209642</td>\n",
       "      <td>HS-grad</td>\n",
       "      <td>9</td>\n",
       "      <td>Married-civ-spouse</td>\n",
       "      <td>Exec-managerial</td>\n",
       "      <td>Husband</td>\n",
       "      <td>White</td>\n",
       "      <td>Male</td>\n",
       "      <td>0</td>\n",
       "      <td>0</td>\n",
       "      <td>45</td>\n",
       "      <td>United-States</td>\n",
       "      <td>&gt;50K</td>\n",
       "    </tr>\n",
       "    <tr>\n",
       "      <th>8</th>\n",
       "      <td>31</td>\n",
       "      <td>Private</td>\n",
       "      <td>45781</td>\n",
       "      <td>Masters</td>\n",
       "      <td>14</td>\n",
       "      <td>Never-married</td>\n",
       "      <td>Prof-specialty</td>\n",
       "      <td>Not-in-family</td>\n",
       "      <td>White</td>\n",
       "      <td>Female</td>\n",
       "      <td>14084</td>\n",
       "      <td>0</td>\n",
       "      <td>50</td>\n",
       "      <td>United-States</td>\n",
       "      <td>&gt;50K</td>\n",
       "    </tr>\n",
       "    <tr>\n",
       "      <th>9</th>\n",
       "      <td>42</td>\n",
       "      <td>Private</td>\n",
       "      <td>159449</td>\n",
       "      <td>Bachelors</td>\n",
       "      <td>13</td>\n",
       "      <td>Married-civ-spouse</td>\n",
       "      <td>Exec-managerial</td>\n",
       "      <td>Husband</td>\n",
       "      <td>White</td>\n",
       "      <td>Male</td>\n",
       "      <td>5178</td>\n",
       "      <td>0</td>\n",
       "      <td>40</td>\n",
       "      <td>United-States</td>\n",
       "      <td>&gt;50K</td>\n",
       "    </tr>\n",
       "  </tbody>\n",
       "</table>\n",
       "</div>"
      ],
      "text/plain": [
       "   age         workclass   fnwgt  education  education_num  \\\n",
       "0   39         State-gov   77516  Bachelors             13   \n",
       "1   50  Self-emp-not-inc   83311  Bachelors             13   \n",
       "2   38           Private  215646    HS-grad              9   \n",
       "3   53           Private  234721       11th              7   \n",
       "4   28           Private  338409  Bachelors             13   \n",
       "5   37           Private  284582    Masters             14   \n",
       "6   49           Private  160187        9th              5   \n",
       "7   52  Self-emp-not-inc  209642    HS-grad              9   \n",
       "8   31           Private   45781    Masters             14   \n",
       "9   42           Private  159449  Bachelors             13   \n",
       "\n",
       "          marital_status         occupation   relationship   race     sex  \\\n",
       "0          Never-married       Adm-clerical  Not-in-family  White    Male   \n",
       "1     Married-civ-spouse    Exec-managerial        Husband  White    Male   \n",
       "2               Divorced  Handlers-cleaners  Not-in-family  White    Male   \n",
       "3     Married-civ-spouse  Handlers-cleaners        Husband  Black    Male   \n",
       "4     Married-civ-spouse     Prof-specialty           Wife  Black  Female   \n",
       "5     Married-civ-spouse    Exec-managerial           Wife  White  Female   \n",
       "6  Married-spouse-absent      Other-service  Not-in-family  Black  Female   \n",
       "7     Married-civ-spouse    Exec-managerial        Husband  White    Male   \n",
       "8          Never-married     Prof-specialty  Not-in-family  White  Female   \n",
       "9     Married-civ-spouse    Exec-managerial        Husband  White    Male   \n",
       "\n",
       "   capital_gain  capital_loss  hours_per_week native_country income  \n",
       "0          2174             0              40  United-States  <=50K  \n",
       "1             0             0              13  United-States  <=50K  \n",
       "2             0             0              40  United-States  <=50K  \n",
       "3             0             0              40  United-States  <=50K  \n",
       "4             0             0              40           Cuba  <=50K  \n",
       "5             0             0              40  United-States  <=50K  \n",
       "6             0             0              16        Jamaica  <=50K  \n",
       "7             0             0              45  United-States   >50K  \n",
       "8         14084             0              50  United-States   >50K  \n",
       "9          5178             0              40  United-States   >50K  "
      ]
     },
     "execution_count": 209,
     "metadata": {},
     "output_type": "execute_result"
    }
   ],
   "source": [
    "adult_df.head(10)"
   ]
  },
  {
   "cell_type": "markdown",
   "id": "8a7a99e5-a894-4e75-9825-6ab2802b403b",
   "metadata": {},
   "source": [
    "# Understanding the dataset\n",
    "- Age: Represents the age of the person, ranging from 17 to 90.\n",
    "- workclass: Represents the employment status of the person. takes on values:`Federal-gov` ,  `Local-gov` ,  `Never-worked` ,  `Private` , `'Self-emp-in` ',`'Self-emp-not-in`',`'State-go`'`'Without-pa`,` 'n`\n",
    "- fnwgt: the weigh the individual represents in the population\n",
    "- education:Represents the school each person took.\n",
    "- education_num: Represents years spent in education.] "
   ]
  },
  {
   "cell_type": "code",
   "execution_count": 385,
   "id": "7e814023-1ff5-4511-bfb8-6a620ff8ede6",
   "metadata": {},
   "outputs": [
    {
     "data": {
      "text/plain": [
       "array(['<=50k', '>50k'], dtype='<U5')"
      ]
     },
     "execution_count": 385,
     "metadata": {},
     "output_type": "execute_result"
    }
   ],
   "source": [
    "np.unique(adult_df.income.to_list())"
   ]
  },
  {
   "cell_type": "code",
   "execution_count": 386,
   "id": "d5831d4a-14ba-40cf-b229-dd1717fdf97c",
   "metadata": {},
   "outputs": [
    {
     "data": {
      "text/plain": [
       "Index(['age', 'workclass', 'fnwgt', 'education', 'education_num',\n",
       "       'marital_status', 'occupation', 'relationship', 'race', 'sex',\n",
       "       'capital_gain', 'capital_loss', 'hours_per_week', 'native_country',\n",
       "       'income', 'education_level', 'occupation_grouped',\n",
       "       'relationship_status', 'native_region'],\n",
       "      dtype='object')"
      ]
     },
     "execution_count": 386,
     "metadata": {},
     "output_type": "execute_result"
    }
   ],
   "source": [
    "adult_df.columns"
   ]
  },
  {
   "cell_type": "markdown",
   "id": "67cac384-b491-492b-86a3-29d79844f09d",
   "metadata": {},
   "source": [
    "### Dealing with missing values"
   ]
  },
  {
   "cell_type": "code",
   "execution_count": 388,
   "id": "993bb099-5983-4aa9-b9d9-9bbc543c79bb",
   "metadata": {},
   "outputs": [
    {
     "data": {
      "text/plain": [
       "age                    0\n",
       "workclass              0\n",
       "fnwgt                  0\n",
       "education              0\n",
       "education_num          0\n",
       "marital_status         0\n",
       "occupation             0\n",
       "relationship           0\n",
       "race                   0\n",
       "sex                    0\n",
       "capital_gain           0\n",
       "capital_loss           0\n",
       "hours_per_week         0\n",
       "native_country         0\n",
       "income                 0\n",
       "education_level        0\n",
       "occupation_grouped     0\n",
       "relationship_status    0\n",
       "native_region          0\n",
       "dtype: int64"
      ]
     },
     "execution_count": 388,
     "metadata": {},
     "output_type": "execute_result"
    }
   ],
   "source": [
    "adult_df.isnull().sum()"
   ]
  },
  {
   "cell_type": "code",
   "execution_count": 389,
   "id": "ea6bf1c4-2230-4521-8ce6-04012150d28b",
   "metadata": {},
   "outputs": [],
   "source": [
    "adult_df['workclass']=adult_df['workclass'].fillna('Unknown')\n",
    "adult_df['native_country']=adult_df['native_country'].fillna('Other')\n",
    "adult_df['occupation']=adult_df['occupation'].fillna('Unknown')"
   ]
  },
  {
   "cell_type": "code",
   "execution_count": 390,
   "id": "ad10fed7-23f5-4360-8b45-24ccd0ad63bd",
   "metadata": {},
   "outputs": [
    {
     "data": {
      "text/plain": [
       "age                    0\n",
       "workclass              0\n",
       "fnwgt                  0\n",
       "education              0\n",
       "education_num          0\n",
       "marital_status         0\n",
       "occupation             0\n",
       "relationship           0\n",
       "race                   0\n",
       "sex                    0\n",
       "capital_gain           0\n",
       "capital_loss           0\n",
       "hours_per_week         0\n",
       "native_country         0\n",
       "income                 0\n",
       "education_level        0\n",
       "occupation_grouped     0\n",
       "relationship_status    0\n",
       "native_region          0\n",
       "dtype: int64"
      ]
     },
     "execution_count": 390,
     "metadata": {},
     "output_type": "execute_result"
    }
   ],
   "source": [
    "adult_df.isnull().sum()"
   ]
  },
  {
   "cell_type": "markdown",
   "id": "eb87315d-a863-426e-a80b-0d686a6dcd7d",
   "metadata": {},
   "source": [
    "### Dealing with duplicates"
   ]
  },
  {
   "cell_type": "code",
   "execution_count": 392,
   "id": "83903393-3003-4811-8b5a-37e01f106f43",
   "metadata": {},
   "outputs": [
    {
     "data": {
      "text/plain": [
       "1"
      ]
     },
     "execution_count": 392,
     "metadata": {},
     "output_type": "execute_result"
    }
   ],
   "source": [
    "adult_df.duplicated().sum()"
   ]
  },
  {
   "cell_type": "code",
   "execution_count": 393,
   "id": "7987edc2-d92f-4cfe-8d15-2b89bb0e4b07",
   "metadata": {},
   "outputs": [
    {
     "data": {
      "text/html": [
       "<div>\n",
       "<style scoped>\n",
       "    .dataframe tbody tr th:only-of-type {\n",
       "        vertical-align: middle;\n",
       "    }\n",
       "\n",
       "    .dataframe tbody tr th {\n",
       "        vertical-align: top;\n",
       "    }\n",
       "\n",
       "    .dataframe thead th {\n",
       "        text-align: right;\n",
       "    }\n",
       "</style>\n",
       "<table border=\"1\" class=\"dataframe\">\n",
       "  <thead>\n",
       "    <tr style=\"text-align: right;\">\n",
       "      <th></th>\n",
       "      <th>age</th>\n",
       "      <th>workclass</th>\n",
       "      <th>fnwgt</th>\n",
       "      <th>education</th>\n",
       "      <th>education_num</th>\n",
       "      <th>marital_status</th>\n",
       "      <th>occupation</th>\n",
       "      <th>relationship</th>\n",
       "      <th>race</th>\n",
       "      <th>sex</th>\n",
       "      <th>capital_gain</th>\n",
       "      <th>capital_loss</th>\n",
       "      <th>hours_per_week</th>\n",
       "      <th>native_country</th>\n",
       "      <th>income</th>\n",
       "      <th>education_level</th>\n",
       "      <th>occupation_grouped</th>\n",
       "      <th>relationship_status</th>\n",
       "      <th>native_region</th>\n",
       "    </tr>\n",
       "  </thead>\n",
       "  <tbody>\n",
       "    <tr>\n",
       "      <th>12233</th>\n",
       "      <td>22</td>\n",
       "      <td>government</td>\n",
       "      <td>262819</td>\n",
       "      <td>some-college</td>\n",
       "      <td>10</td>\n",
       "      <td>single</td>\n",
       "      <td>adm-clerical</td>\n",
       "      <td>single</td>\n",
       "      <td>white</td>\n",
       "      <td>female</td>\n",
       "      <td>0</td>\n",
       "      <td>0</td>\n",
       "      <td>40</td>\n",
       "      <td>united-states</td>\n",
       "      <td>&lt;=50k</td>\n",
       "      <td>some-college</td>\n",
       "      <td>white collar</td>\n",
       "      <td>not-in-family</td>\n",
       "      <td>north_america</td>\n",
       "    </tr>\n",
       "    <tr>\n",
       "      <th>23520</th>\n",
       "      <td>22</td>\n",
       "      <td>government</td>\n",
       "      <td>262819</td>\n",
       "      <td>some-college</td>\n",
       "      <td>10</td>\n",
       "      <td>single</td>\n",
       "      <td>adm-clerical</td>\n",
       "      <td>single</td>\n",
       "      <td>white</td>\n",
       "      <td>female</td>\n",
       "      <td>0</td>\n",
       "      <td>0</td>\n",
       "      <td>40</td>\n",
       "      <td>united-states</td>\n",
       "      <td>&lt;=50k</td>\n",
       "      <td>some-college</td>\n",
       "      <td>white collar</td>\n",
       "      <td>not-in-family</td>\n",
       "      <td>north_america</td>\n",
       "    </tr>\n",
       "  </tbody>\n",
       "</table>\n",
       "</div>"
      ],
      "text/plain": [
       "       age   workclass   fnwgt     education  education_num marital_status  \\\n",
       "12233   22  government  262819  some-college             10         single   \n",
       "23520   22  government  262819  some-college             10         single   \n",
       "\n",
       "         occupation relationship   race     sex  capital_gain  capital_loss  \\\n",
       "12233  adm-clerical       single  white  female             0             0   \n",
       "23520  adm-clerical       single  white  female             0             0   \n",
       "\n",
       "       hours_per_week native_country income education_level  \\\n",
       "12233              40  united-states  <=50k    some-college   \n",
       "23520              40  united-states  <=50k    some-college   \n",
       "\n",
       "      occupation_grouped relationship_status  native_region  \n",
       "12233       white collar       not-in-family  north_america  \n",
       "23520       white collar       not-in-family  north_america  "
      ]
     },
     "execution_count": 393,
     "metadata": {},
     "output_type": "execute_result"
    }
   ],
   "source": [
    "adult_df[adult_df.duplicated(keep=False)]"
   ]
  },
  {
   "cell_type": "code",
   "execution_count": 394,
   "id": "398bc3fe-3329-4c8f-ba1c-83c21182d3bb",
   "metadata": {},
   "outputs": [],
   "source": [
    "adult_df= adult_df.drop_duplicates()"
   ]
  },
  {
   "cell_type": "code",
   "execution_count": 395,
   "id": "65956feb-4c54-4868-8ed1-7ca991ee49cc",
   "metadata": {},
   "outputs": [
    {
     "data": {
      "text/plain": [
       "0"
      ]
     },
     "execution_count": 395,
     "metadata": {},
     "output_type": "execute_result"
    }
   ],
   "source": [
    "adult_df.duplicated().sum()"
   ]
  },
  {
   "cell_type": "code",
   "execution_count": 396,
   "id": "28115c1b-d129-4f80-8c93-59ed05602364",
   "metadata": {},
   "outputs": [
    {
     "data": {
      "text/plain": [
       "(32536, 19)"
      ]
     },
     "execution_count": 396,
     "metadata": {},
     "output_type": "execute_result"
    }
   ],
   "source": [
    "adult_df.shape"
   ]
  },
  {
   "cell_type": "markdown",
   "id": "0dda73f4-74d2-41f2-b6c6-b8eccd057508",
   "metadata": {},
   "source": [
    "### Standardize categorical variables\n",
    "**Remove any leading or trailing spaces and convert the strings to lowercase**"
   ]
  },
  {
   "cell_type": "code",
   "execution_count": 398,
   "id": "e23531bc-a9b5-47bc-b06a-e8a3722dddbc",
   "metadata": {},
   "outputs": [
    {
     "data": {
      "text/plain": [
       "age                    False\n",
       "workclass               True\n",
       "fnwgt                  False\n",
       "education               True\n",
       "education_num          False\n",
       "marital_status          True\n",
       "occupation              True\n",
       "relationship            True\n",
       "race                    True\n",
       "sex                     True\n",
       "capital_gain           False\n",
       "capital_loss           False\n",
       "hours_per_week         False\n",
       "native_country          True\n",
       "income                  True\n",
       "education_level         True\n",
       "occupation_grouped      True\n",
       "relationship_status     True\n",
       "native_region           True\n",
       "dtype: bool"
      ]
     },
     "execution_count": 398,
     "metadata": {},
     "output_type": "execute_result"
    }
   ],
   "source": [
    "adult_df.dtypes == object"
   ]
  },
  {
   "cell_type": "code",
   "execution_count": 399,
   "id": "58fc58d5-0370-44d9-ae5d-0b2a92e02858",
   "metadata": {},
   "outputs": [
    {
     "name": "stderr",
     "output_type": "stream",
     "text": [
      "C:\\Users\\ADELINE PC\\AppData\\Local\\Temp\\ipykernel_3924\\2315004554.py:3: SettingWithCopyWarning: \n",
      "A value is trying to be set on a copy of a slice from a DataFrame.\n",
      "Try using .loc[row_indexer,col_indexer] = value instead\n",
      "\n",
      "See the caveats in the documentation: https://pandas.pydata.org/pandas-docs/stable/user_guide/indexing.html#returning-a-view-versus-a-copy\n",
      "  adult_df[col] = adult_df[col].str.strip().str.lower()\n"
     ]
    }
   ],
   "source": [
    " categorical_cols = adult_df.columns[(adult_df.dtypes == object)]\n",
    "for col in categorical_cols: \n",
    "    adult_df[col] = adult_df[col].str.strip().str.lower()"
   ]
  },
  {
   "cell_type": "code",
   "execution_count": 400,
   "id": "78018b4c-b34a-474e-b0a7-e6316df0a0c9",
   "metadata": {},
   "outputs": [
    {
     "data": {
      "text/html": [
       "<div>\n",
       "<style scoped>\n",
       "    .dataframe tbody tr th:only-of-type {\n",
       "        vertical-align: middle;\n",
       "    }\n",
       "\n",
       "    .dataframe tbody tr th {\n",
       "        vertical-align: top;\n",
       "    }\n",
       "\n",
       "    .dataframe thead th {\n",
       "        text-align: right;\n",
       "    }\n",
       "</style>\n",
       "<table border=\"1\" class=\"dataframe\">\n",
       "  <thead>\n",
       "    <tr style=\"text-align: right;\">\n",
       "      <th></th>\n",
       "      <th>age</th>\n",
       "      <th>workclass</th>\n",
       "      <th>fnwgt</th>\n",
       "      <th>education</th>\n",
       "      <th>education_num</th>\n",
       "      <th>marital_status</th>\n",
       "      <th>occupation</th>\n",
       "      <th>relationship</th>\n",
       "      <th>race</th>\n",
       "      <th>sex</th>\n",
       "      <th>capital_gain</th>\n",
       "      <th>capital_loss</th>\n",
       "      <th>hours_per_week</th>\n",
       "      <th>native_country</th>\n",
       "      <th>income</th>\n",
       "      <th>education_level</th>\n",
       "      <th>occupation_grouped</th>\n",
       "      <th>relationship_status</th>\n",
       "      <th>native_region</th>\n",
       "    </tr>\n",
       "  </thead>\n",
       "  <tbody>\n",
       "    <tr>\n",
       "      <th>0</th>\n",
       "      <td>39</td>\n",
       "      <td>government</td>\n",
       "      <td>77516</td>\n",
       "      <td>bachelors</td>\n",
       "      <td>13</td>\n",
       "      <td>single</td>\n",
       "      <td>adm-clerical</td>\n",
       "      <td>single</td>\n",
       "      <td>white</td>\n",
       "      <td>male</td>\n",
       "      <td>2174</td>\n",
       "      <td>0</td>\n",
       "      <td>40</td>\n",
       "      <td>united-states</td>\n",
       "      <td>&lt;=50k</td>\n",
       "      <td>tertiary</td>\n",
       "      <td>white collar</td>\n",
       "      <td>not-in-family</td>\n",
       "      <td>north_america</td>\n",
       "    </tr>\n",
       "    <tr>\n",
       "      <th>1</th>\n",
       "      <td>50</td>\n",
       "      <td>self-employed</td>\n",
       "      <td>83311</td>\n",
       "      <td>bachelors</td>\n",
       "      <td>13</td>\n",
       "      <td>married</td>\n",
       "      <td>exec-managerial</td>\n",
       "      <td>male spouse</td>\n",
       "      <td>white</td>\n",
       "      <td>male</td>\n",
       "      <td>0</td>\n",
       "      <td>0</td>\n",
       "      <td>13</td>\n",
       "      <td>united-states</td>\n",
       "      <td>&lt;=50k</td>\n",
       "      <td>tertiary</td>\n",
       "      <td>white collar</td>\n",
       "      <td>husband</td>\n",
       "      <td>north_america</td>\n",
       "    </tr>\n",
       "    <tr>\n",
       "      <th>2</th>\n",
       "      <td>38</td>\n",
       "      <td>private</td>\n",
       "      <td>215646</td>\n",
       "      <td>hs-grad</td>\n",
       "      <td>9</td>\n",
       "      <td>divorced or separated</td>\n",
       "      <td>handlers-cleaners</td>\n",
       "      <td>single</td>\n",
       "      <td>white</td>\n",
       "      <td>male</td>\n",
       "      <td>0</td>\n",
       "      <td>0</td>\n",
       "      <td>40</td>\n",
       "      <td>united-states</td>\n",
       "      <td>&lt;=50k</td>\n",
       "      <td>high school graduate</td>\n",
       "      <td>blue collar</td>\n",
       "      <td>not-in-family</td>\n",
       "      <td>north_america</td>\n",
       "    </tr>\n",
       "    <tr>\n",
       "      <th>3</th>\n",
       "      <td>53</td>\n",
       "      <td>private</td>\n",
       "      <td>234721</td>\n",
       "      <td>11th</td>\n",
       "      <td>7</td>\n",
       "      <td>married</td>\n",
       "      <td>handlers-cleaners</td>\n",
       "      <td>male spouse</td>\n",
       "      <td>black</td>\n",
       "      <td>male</td>\n",
       "      <td>0</td>\n",
       "      <td>0</td>\n",
       "      <td>40</td>\n",
       "      <td>united-states</td>\n",
       "      <td>&lt;=50k</td>\n",
       "      <td>secondary</td>\n",
       "      <td>blue collar</td>\n",
       "      <td>husband</td>\n",
       "      <td>north_america</td>\n",
       "    </tr>\n",
       "    <tr>\n",
       "      <th>4</th>\n",
       "      <td>28</td>\n",
       "      <td>private</td>\n",
       "      <td>338409</td>\n",
       "      <td>bachelors</td>\n",
       "      <td>13</td>\n",
       "      <td>married</td>\n",
       "      <td>prof-specialty</td>\n",
       "      <td>female spouse</td>\n",
       "      <td>black</td>\n",
       "      <td>female</td>\n",
       "      <td>0</td>\n",
       "      <td>0</td>\n",
       "      <td>40</td>\n",
       "      <td>cuba</td>\n",
       "      <td>&lt;=50k</td>\n",
       "      <td>tertiary</td>\n",
       "      <td>white collar</td>\n",
       "      <td>wife</td>\n",
       "      <td>central_america</td>\n",
       "    </tr>\n",
       "    <tr>\n",
       "      <th>...</th>\n",
       "      <td>...</td>\n",
       "      <td>...</td>\n",
       "      <td>...</td>\n",
       "      <td>...</td>\n",
       "      <td>...</td>\n",
       "      <td>...</td>\n",
       "      <td>...</td>\n",
       "      <td>...</td>\n",
       "      <td>...</td>\n",
       "      <td>...</td>\n",
       "      <td>...</td>\n",
       "      <td>...</td>\n",
       "      <td>...</td>\n",
       "      <td>...</td>\n",
       "      <td>...</td>\n",
       "      <td>...</td>\n",
       "      <td>...</td>\n",
       "      <td>...</td>\n",
       "      <td>...</td>\n",
       "    </tr>\n",
       "    <tr>\n",
       "      <th>32556</th>\n",
       "      <td>27</td>\n",
       "      <td>private</td>\n",
       "      <td>257302</td>\n",
       "      <td>assoc-acdm</td>\n",
       "      <td>12</td>\n",
       "      <td>married</td>\n",
       "      <td>tech-support</td>\n",
       "      <td>female spouse</td>\n",
       "      <td>white</td>\n",
       "      <td>female</td>\n",
       "      <td>0</td>\n",
       "      <td>0</td>\n",
       "      <td>38</td>\n",
       "      <td>united-states</td>\n",
       "      <td>&lt;=50k</td>\n",
       "      <td>associate</td>\n",
       "      <td>white collar</td>\n",
       "      <td>wife</td>\n",
       "      <td>north_america</td>\n",
       "    </tr>\n",
       "    <tr>\n",
       "      <th>32557</th>\n",
       "      <td>40</td>\n",
       "      <td>private</td>\n",
       "      <td>154374</td>\n",
       "      <td>hs-grad</td>\n",
       "      <td>9</td>\n",
       "      <td>married</td>\n",
       "      <td>machine-op-inspct</td>\n",
       "      <td>male spouse</td>\n",
       "      <td>white</td>\n",
       "      <td>male</td>\n",
       "      <td>0</td>\n",
       "      <td>0</td>\n",
       "      <td>40</td>\n",
       "      <td>united-states</td>\n",
       "      <td>&gt;50k</td>\n",
       "      <td>high school graduate</td>\n",
       "      <td>blue collar</td>\n",
       "      <td>husband</td>\n",
       "      <td>north_america</td>\n",
       "    </tr>\n",
       "    <tr>\n",
       "      <th>32558</th>\n",
       "      <td>58</td>\n",
       "      <td>private</td>\n",
       "      <td>151910</td>\n",
       "      <td>hs-grad</td>\n",
       "      <td>9</td>\n",
       "      <td>widowed</td>\n",
       "      <td>adm-clerical</td>\n",
       "      <td>single</td>\n",
       "      <td>white</td>\n",
       "      <td>female</td>\n",
       "      <td>0</td>\n",
       "      <td>0</td>\n",
       "      <td>40</td>\n",
       "      <td>united-states</td>\n",
       "      <td>&lt;=50k</td>\n",
       "      <td>high school graduate</td>\n",
       "      <td>white collar</td>\n",
       "      <td>unmarried</td>\n",
       "      <td>north_america</td>\n",
       "    </tr>\n",
       "    <tr>\n",
       "      <th>32559</th>\n",
       "      <td>22</td>\n",
       "      <td>private</td>\n",
       "      <td>201490</td>\n",
       "      <td>hs-grad</td>\n",
       "      <td>9</td>\n",
       "      <td>single</td>\n",
       "      <td>adm-clerical</td>\n",
       "      <td>child</td>\n",
       "      <td>white</td>\n",
       "      <td>male</td>\n",
       "      <td>0</td>\n",
       "      <td>0</td>\n",
       "      <td>20</td>\n",
       "      <td>united-states</td>\n",
       "      <td>&lt;=50k</td>\n",
       "      <td>high school graduate</td>\n",
       "      <td>white collar</td>\n",
       "      <td>own-child</td>\n",
       "      <td>north_america</td>\n",
       "    </tr>\n",
       "    <tr>\n",
       "      <th>32560</th>\n",
       "      <td>52</td>\n",
       "      <td>self-employed</td>\n",
       "      <td>287927</td>\n",
       "      <td>hs-grad</td>\n",
       "      <td>9</td>\n",
       "      <td>married</td>\n",
       "      <td>exec-managerial</td>\n",
       "      <td>female spouse</td>\n",
       "      <td>white</td>\n",
       "      <td>female</td>\n",
       "      <td>15024</td>\n",
       "      <td>0</td>\n",
       "      <td>40</td>\n",
       "      <td>united-states</td>\n",
       "      <td>&gt;50k</td>\n",
       "      <td>high school graduate</td>\n",
       "      <td>white collar</td>\n",
       "      <td>wife</td>\n",
       "      <td>north_america</td>\n",
       "    </tr>\n",
       "  </tbody>\n",
       "</table>\n",
       "<p>32536 rows × 19 columns</p>\n",
       "</div>"
      ],
      "text/plain": [
       "       age      workclass   fnwgt   education  education_num  \\\n",
       "0       39     government   77516   bachelors             13   \n",
       "1       50  self-employed   83311   bachelors             13   \n",
       "2       38        private  215646     hs-grad              9   \n",
       "3       53        private  234721        11th              7   \n",
       "4       28        private  338409   bachelors             13   \n",
       "...    ...            ...     ...         ...            ...   \n",
       "32556   27        private  257302  assoc-acdm             12   \n",
       "32557   40        private  154374     hs-grad              9   \n",
       "32558   58        private  151910     hs-grad              9   \n",
       "32559   22        private  201490     hs-grad              9   \n",
       "32560   52  self-employed  287927     hs-grad              9   \n",
       "\n",
       "              marital_status         occupation   relationship   race     sex  \\\n",
       "0                     single       adm-clerical         single  white    male   \n",
       "1                    married    exec-managerial    male spouse  white    male   \n",
       "2      divorced or separated  handlers-cleaners         single  white    male   \n",
       "3                    married  handlers-cleaners    male spouse  black    male   \n",
       "4                    married     prof-specialty  female spouse  black  female   \n",
       "...                      ...                ...            ...    ...     ...   \n",
       "32556                married       tech-support  female spouse  white  female   \n",
       "32557                married  machine-op-inspct    male spouse  white    male   \n",
       "32558                widowed       adm-clerical         single  white  female   \n",
       "32559                 single       adm-clerical          child  white    male   \n",
       "32560                married    exec-managerial  female spouse  white  female   \n",
       "\n",
       "       capital_gain  capital_loss  hours_per_week native_country income  \\\n",
       "0              2174             0              40  united-states  <=50k   \n",
       "1                 0             0              13  united-states  <=50k   \n",
       "2                 0             0              40  united-states  <=50k   \n",
       "3                 0             0              40  united-states  <=50k   \n",
       "4                 0             0              40           cuba  <=50k   \n",
       "...             ...           ...             ...            ...    ...   \n",
       "32556             0             0              38  united-states  <=50k   \n",
       "32557             0             0              40  united-states   >50k   \n",
       "32558             0             0              40  united-states  <=50k   \n",
       "32559             0             0              20  united-states  <=50k   \n",
       "32560         15024             0              40  united-states   >50k   \n",
       "\n",
       "            education_level occupation_grouped relationship_status  \\\n",
       "0                  tertiary       white collar       not-in-family   \n",
       "1                  tertiary       white collar             husband   \n",
       "2      high school graduate        blue collar       not-in-family   \n",
       "3                 secondary        blue collar             husband   \n",
       "4                  tertiary       white collar                wife   \n",
       "...                     ...                ...                 ...   \n",
       "32556             associate       white collar                wife   \n",
       "32557  high school graduate        blue collar             husband   \n",
       "32558  high school graduate       white collar           unmarried   \n",
       "32559  high school graduate       white collar           own-child   \n",
       "32560  high school graduate       white collar                wife   \n",
       "\n",
       "         native_region  \n",
       "0        north_america  \n",
       "1        north_america  \n",
       "2        north_america  \n",
       "3        north_america  \n",
       "4      central_america  \n",
       "...                ...  \n",
       "32556    north_america  \n",
       "32557    north_america  \n",
       "32558    north_america  \n",
       "32559    north_america  \n",
       "32560    north_america  \n",
       "\n",
       "[32536 rows x 19 columns]"
      ]
     },
     "execution_count": 400,
     "metadata": {},
     "output_type": "execute_result"
    }
   ],
   "source": [
    "adult_df"
   ]
  },
  {
   "cell_type": "markdown",
   "id": "11fa5f3f-77a0-4340-af9e-178e9a8d7b80",
   "metadata": {},
   "source": [
    "**Re-code the `workclass` column**"
   ]
  },
  {
   "cell_type": "code",
   "execution_count": 402,
   "id": "3528b4da-1d1e-4ea9-a8fd-13f10dc44c69",
   "metadata": {},
   "outputs": [
    {
     "data": {
      "text/plain": [
       "array(['government', 'self-employed', 'private', 'unknown', 'voluntary',\n",
       "       'unemployed'], dtype=object)"
      ]
     },
     "execution_count": 402,
     "metadata": {},
     "output_type": "execute_result"
    }
   ],
   "source": [
    "adult_df['workclass'].unique()"
   ]
  },
  {
   "cell_type": "code",
   "execution_count": 403,
   "id": "988aff5d-2979-4a25-8e2b-2af9b9fb5a8f",
   "metadata": {},
   "outputs": [
    {
     "name": "stderr",
     "output_type": "stream",
     "text": [
      "C:\\Users\\ADELINE PC\\AppData\\Local\\Temp\\ipykernel_3924\\3985786825.py:1: SettingWithCopyWarning: \n",
      "A value is trying to be set on a copy of a slice from a DataFrame.\n",
      "Try using .loc[row_indexer,col_indexer] = value instead\n",
      "\n",
      "See the caveats in the documentation: https://pandas.pydata.org/pandas-docs/stable/user_guide/indexing.html#returning-a-view-versus-a-copy\n",
      "  adult_df['workclass'] = adult_df['workclass'].replace({\n"
     ]
    }
   ],
   "source": [
    "adult_df['workclass'] = adult_df['workclass'].replace({\n",
    "'state-gov':'government', \n",
    "'local-gov':'government', \n",
    "'federal-gov':'government', \n",
    "'self-emp-not-inc':'self-employed', \n",
    "'self-emp-inc':'self-employed', \n",
    "'never-worked':'unemployed', \n",
    "'without-pay':'voluntary',\n",
    "})"
   ]
  },
  {
   "cell_type": "markdown",
   "id": "9b8c0dea-ef3c-4d4c-a969-699ff07d0508",
   "metadata": {},
   "source": [
    "**Re-code `education` column**"
   ]
  },
  {
   "cell_type": "code",
   "execution_count": 405,
   "id": "0ba1490b-09ee-4dc7-b413-d356bb681575",
   "metadata": {},
   "outputs": [
    {
     "data": {
      "text/plain": [
       "array(['bachelors', 'hs-grad', '11th', 'masters', '9th', 'some-college',\n",
       "       'assoc-acdm', 'assoc-voc', '7th-8th', 'doctorate', 'prof-school',\n",
       "       '5th-6th', '10th', '1st-4th', 'preschool', '12th'], dtype=object)"
      ]
     },
     "execution_count": 405,
     "metadata": {},
     "output_type": "execute_result"
    }
   ],
   "source": [
    "adult_df['education'].unique()"
   ]
  },
  {
   "cell_type": "code",
   "execution_count": 406,
   "id": "5a5d3033-6407-4c72-a962-94e2e75fbf7c",
   "metadata": {},
   "outputs": [
    {
     "name": "stderr",
     "output_type": "stream",
     "text": [
      "C:\\Users\\ADELINE PC\\AppData\\Local\\Temp\\ipykernel_3924\\1855397518.py:1: SettingWithCopyWarning: \n",
      "A value is trying to be set on a copy of a slice from a DataFrame.\n",
      "Try using .loc[row_indexer,col_indexer] = value instead\n",
      "\n",
      "See the caveats in the documentation: https://pandas.pydata.org/pandas-docs/stable/user_guide/indexing.html#returning-a-view-versus-a-copy\n",
      "  adult_df['education_level'] = adult_df['education'].replace({\n"
     ]
    }
   ],
   "source": [
    "adult_df['education_level'] = adult_df['education'].replace({\n",
    "    'bachelors': 'tertiary', \n",
    "    'masters': 'tertiary', \n",
    "    'doctorate': 'tertiary', \n",
    "    'prof-school': 'tertiary', \n",
    "    'assoc-acdm': 'associate', \n",
    "    'assoc-voc': 'associate', \n",
    "    'hs-grad': 'high school graduate',\n",
    "    '12th': 'secondary', \n",
    "    '11th': 'secondary', \n",
    "    '10th': 'secondary', \n",
    "    '9th': 'secondary',\n",
    "    '7th-8th': 'primary',\n",
    "    '5th-6th': 'primary', \n",
    "    '1st-4th': 'primary', \n",
    "    'preschool': 'preschool'\n",
    "})\n"
   ]
  },
  {
   "cell_type": "code",
   "execution_count": 407,
   "id": "41bd7834-a732-47b9-af20-01340c34a601",
   "metadata": {},
   "outputs": [
    {
     "data": {
      "text/plain": [
       "Index(['age', 'workclass', 'fnwgt', 'education', 'education_num',\n",
       "       'marital_status', 'occupation', 'relationship', 'race', 'sex',\n",
       "       'capital_gain', 'capital_loss', 'hours_per_week', 'native_country',\n",
       "       'income', 'education_level', 'occupation_grouped',\n",
       "       'relationship_status', 'native_region'],\n",
       "      dtype='object')"
      ]
     },
     "execution_count": 407,
     "metadata": {},
     "output_type": "execute_result"
    }
   ],
   "source": [
    "adult_df.columns"
   ]
  },
  {
   "cell_type": "code",
   "execution_count": 408,
   "id": "ca7de3ad-6713-4c56-87ae-abff0b629d39",
   "metadata": {},
   "outputs": [
    {
     "data": {
      "text/plain": [
       "array(['tertiary', 'high school graduate', 'secondary', 'some-college',\n",
       "       'associate', 'primary', 'preschool'], dtype=object)"
      ]
     },
     "execution_count": 408,
     "metadata": {},
     "output_type": "execute_result"
    }
   ],
   "source": [
    "adult_df['education_level'].unique()"
   ]
  },
  {
   "cell_type": "markdown",
   "id": "89bf30df-c30f-40e8-81e9-541c6b115362",
   "metadata": {},
   "source": [
    "**Re-code `marital_status` column**"
   ]
  },
  {
   "cell_type": "code",
   "execution_count": 410,
   "id": "2885ec73-4fd5-456d-af30-6dab8dea7147",
   "metadata": {},
   "outputs": [
    {
     "data": {
      "text/plain": [
       "array(['single', 'married', 'divorced or separated', 'widowed'],\n",
       "      dtype=object)"
      ]
     },
     "execution_count": 410,
     "metadata": {},
     "output_type": "execute_result"
    }
   ],
   "source": [
    "adult_df['marital_status'].unique()"
   ]
  },
  {
   "cell_type": "code",
   "execution_count": 411,
   "id": "64af1710-7e89-46fc-8872-bc997410f7c5",
   "metadata": {},
   "outputs": [
    {
     "name": "stderr",
     "output_type": "stream",
     "text": [
      "C:\\Users\\ADELINE PC\\AppData\\Local\\Temp\\ipykernel_3924\\156966435.py:1: SettingWithCopyWarning: \n",
      "A value is trying to be set on a copy of a slice from a DataFrame.\n",
      "Try using .loc[row_indexer,col_indexer] = value instead\n",
      "\n",
      "See the caveats in the documentation: https://pandas.pydata.org/pandas-docs/stable/user_guide/indexing.html#returning-a-view-versus-a-copy\n",
      "  adult_df['marital_status'] = adult_df['marital_status'].replace({\n"
     ]
    }
   ],
   "source": [
    "adult_df['marital_status'] = adult_df['marital_status'].replace({\n",
    "    'never-married': 'single', \n",
    "    'married-civ-spouse': 'married', \n",
    "    'married-spouse-absent': 'divorced or separated', \n",
    "    'divorced': 'divorced or separated', \n",
    "    'separated': 'divorced or separated', \n",
    "    'married-af-spouse': 'married'\n",
    "})\n"
   ]
  },
  {
   "cell_type": "code",
   "execution_count": 412,
   "id": "feb120bf-03c5-4fe9-975a-3761d187c3f4",
   "metadata": {},
   "outputs": [
    {
     "data": {
      "text/plain": [
       "array(['single', 'married', 'divorced or separated', 'widowed'],\n",
       "      dtype=object)"
      ]
     },
     "execution_count": 412,
     "metadata": {},
     "output_type": "execute_result"
    }
   ],
   "source": [
    "adult_df['marital_status'].unique()"
   ]
  },
  {
   "cell_type": "markdown",
   "id": "e7991764-7d63-4d66-a5f4-47cb84e221f7",
   "metadata": {},
   "source": [
    "**Re-code `occupation` column**"
   ]
  },
  {
   "cell_type": "code",
   "execution_count": 414,
   "id": "3ec15198-fb92-41ee-946a-390ee5dce7f3",
   "metadata": {},
   "outputs": [
    {
     "data": {
      "text/plain": [
       "array(['adm-clerical', 'exec-managerial', 'handlers-cleaners',\n",
       "       'prof-specialty', 'other-service', 'sales', 'craft-repair',\n",
       "       'transport-moving', 'farming-fishing', 'machine-op-inspct',\n",
       "       'tech-support', 'unknown', 'protective-serv', 'armed-forces',\n",
       "       'priv-house-serv'], dtype=object)"
      ]
     },
     "execution_count": 414,
     "metadata": {},
     "output_type": "execute_result"
    }
   ],
   "source": [
    "adult_df['occupation'].unique()"
   ]
  },
  {
   "cell_type": "code",
   "execution_count": 415,
   "id": "a6a3a64c-23fe-4bfe-b696-0fabae9fb4b1",
   "metadata": {},
   "outputs": [
    {
     "name": "stderr",
     "output_type": "stream",
     "text": [
      "C:\\Users\\ADELINE PC\\AppData\\Local\\Temp\\ipykernel_3924\\1742681081.py:1: SettingWithCopyWarning: \n",
      "A value is trying to be set on a copy of a slice from a DataFrame.\n",
      "Try using .loc[row_indexer,col_indexer] = value instead\n",
      "\n",
      "See the caveats in the documentation: https://pandas.pydata.org/pandas-docs/stable/user_guide/indexing.html#returning-a-view-versus-a-copy\n",
      "  adult_df['occupation_grouped'] = adult_df['occupation'].replace({\n"
     ]
    }
   ],
   "source": [
    "adult_df['occupation_grouped'] = adult_df['occupation'].replace({\n",
    "    'adm-clerical': 'white collar', \n",
    "    'exec-managerial': 'white collar', \n",
    "    'handlers-cleaners': 'blue collar', \n",
    "    'prof-specialty': 'white collar', \n",
    "    'other-service': 'service', \n",
    "    'sales': 'white collar', \n",
    "    'craft-repair': 'blue collar',\n",
    "    'transport-moving': 'blue collar', \n",
    "    'farming-fishing': 'blue collar', \n",
    "    'machine-op-inspct': 'blue collar', \n",
    "    'tech-support': 'white collar',\n",
    "    'unknown': 'unknown',\n",
    "    'protective-serv': 'service', \n",
    "    'armed-forces': 'military', \n",
    "    'priv-house-serv': 'service'\n",
    "})"
   ]
  },
  {
   "cell_type": "code",
   "execution_count": 416,
   "id": "75338824-3a0a-4013-8e6d-41ae750347c7",
   "metadata": {},
   "outputs": [
    {
     "data": {
      "text/plain": [
       "array(['white collar', 'blue collar', 'service', 'unknown', 'military'],\n",
       "      dtype=object)"
      ]
     },
     "execution_count": 416,
     "metadata": {},
     "output_type": "execute_result"
    }
   ],
   "source": [
    "adult_df['occupation_grouped'].unique()"
   ]
  },
  {
   "cell_type": "markdown",
   "id": "11b26787-dbd8-4f4a-b564-748437383f28",
   "metadata": {},
   "source": [
    "**Re-code `Relationship` column**"
   ]
  },
  {
   "cell_type": "code",
   "execution_count": 418,
   "id": "cec48da2-5e9c-41cf-b889-e4d70d64f859",
   "metadata": {},
   "outputs": [
    {
     "data": {
      "text/plain": [
       "array(['single', 'male spouse', 'female spouse', 'child',\n",
       "       'extended relative'], dtype=object)"
      ]
     },
     "execution_count": 418,
     "metadata": {},
     "output_type": "execute_result"
    }
   ],
   "source": [
    "adult_df['relationship'].unique()"
   ]
  },
  {
   "cell_type": "code",
   "execution_count": 419,
   "id": "9ed92fae-7c57-4c3d-a350-21d5c558251b",
   "metadata": {},
   "outputs": [
    {
     "name": "stderr",
     "output_type": "stream",
     "text": [
      "C:\\Users\\ADELINE PC\\AppData\\Local\\Temp\\ipykernel_3924\\2365791397.py:1: SettingWithCopyWarning: \n",
      "A value is trying to be set on a copy of a slice from a DataFrame.\n",
      "Try using .loc[row_indexer,col_indexer] = value instead\n",
      "\n",
      "See the caveats in the documentation: https://pandas.pydata.org/pandas-docs/stable/user_guide/indexing.html#returning-a-view-versus-a-copy\n",
      "  adult_df['relationship'] = adult_df['relationship'].replace({\n"
     ]
    }
   ],
   "source": [
    "adult_df['relationship'] = adult_df['relationship'].replace({\n",
    "    'husband': 'male spouse', \n",
    "    'wife': 'female spouse', \n",
    "    'own-child': 'child', \n",
    "    'not-in-family': 'single', \n",
    "    'unmarried': 'single', \n",
    "    'other-relative': 'extended relative'\n",
    "})\n"
   ]
  },
  {
   "cell_type": "code",
   "execution_count": 420,
   "id": "e834a97a-f965-47f5-825c-12b369ad08a6",
   "metadata": {},
   "outputs": [
    {
     "data": {
      "text/plain": [
       "array(['single', 'male spouse', 'female spouse', 'child',\n",
       "       'extended relative'], dtype=object)"
      ]
     },
     "execution_count": 420,
     "metadata": {},
     "output_type": "execute_result"
    }
   ],
   "source": [
    "adult_df['relationship'].unique()"
   ]
  },
  {
   "cell_type": "markdown",
   "id": "9ce427b4-bd81-4b83-9af2-2fab439998c0",
   "metadata": {},
   "source": [
    "**Re-code `race` column**"
   ]
  },
  {
   "cell_type": "code",
   "execution_count": 422,
   "id": "c4f7cd3d-6479-4aa7-aec8-bc9d261b708b",
   "metadata": {},
   "outputs": [
    {
     "data": {
      "text/plain": [
       "array(['white', 'black', 'asian or pacific islander',\n",
       "       'american indian or eskimo', 'other'], dtype=object)"
      ]
     },
     "execution_count": 422,
     "metadata": {},
     "output_type": "execute_result"
    }
   ],
   "source": [
    "adult_df['race'].unique()"
   ]
  },
  {
   "cell_type": "code",
   "execution_count": 423,
   "id": "4c644498-c323-4378-9e32-65dc3c439492",
   "metadata": {},
   "outputs": [
    {
     "name": "stderr",
     "output_type": "stream",
     "text": [
      "C:\\Users\\ADELINE PC\\AppData\\Local\\Temp\\ipykernel_3924\\3027725446.py:1: SettingWithCopyWarning: \n",
      "A value is trying to be set on a copy of a slice from a DataFrame.\n",
      "Try using .loc[row_indexer,col_indexer] = value instead\n",
      "\n",
      "See the caveats in the documentation: https://pandas.pydata.org/pandas-docs/stable/user_guide/indexing.html#returning-a-view-versus-a-copy\n",
      "  adult_df['race'] = adult_df['race'].replace({\n"
     ]
    }
   ],
   "source": [
    "adult_df['race'] = adult_df['race'].replace({\n",
    "    'white': 'white', \n",
    "    'black': 'black', \n",
    "    'asian-pac-islander': 'asian or pacific islander', \n",
    "    'amer-indian-eskimo': 'american indian or eskimo', \n",
    "    'other': 'other'\n",
    "})"
   ]
  },
  {
   "cell_type": "code",
   "execution_count": 424,
   "id": "8f98d58f-b2f0-4f5b-a9ec-fb8842cc62a2",
   "metadata": {},
   "outputs": [
    {
     "data": {
      "text/plain": [
       "array(['white', 'black', 'asian or pacific islander',\n",
       "       'american indian or eskimo', 'other'], dtype=object)"
      ]
     },
     "execution_count": 424,
     "metadata": {},
     "output_type": "execute_result"
    }
   ],
   "source": [
    "adult_df['race'].unique()"
   ]
  },
  {
   "cell_type": "markdown",
   "id": "91331114-c659-4918-a3e5-e3a132a775bb",
   "metadata": {},
   "source": [
    "**Re-code `native_country` column**"
   ]
  },
  {
   "cell_type": "code",
   "execution_count": 426,
   "id": "2ef6bea7-d859-4cbe-a488-71cf03f0399e",
   "metadata": {},
   "outputs": [
    {
     "data": {
      "text/plain": [
       "array(['united-states', 'cuba', 'jamaica', 'india', 'other', 'mexico',\n",
       "       'south', 'puerto-rico', 'honduras', 'england', 'canada', 'germany',\n",
       "       'iran', 'philippines', 'italy', 'poland', 'columbia', 'cambodia',\n",
       "       'thailand', 'ecuador', 'laos', 'taiwan', 'haiti', 'portugal',\n",
       "       'dominican-republic', 'el-salvador', 'france', 'guatemala',\n",
       "       'china', 'japan', 'yugoslavia', 'peru',\n",
       "       'outlying-us(guam-usvi-etc)', 'scotland', 'trinadad&tobago',\n",
       "       'greece', 'nicaragua', 'vietnam', 'hong', 'ireland', 'hungary',\n",
       "       'holand-netherlands'], dtype=object)"
      ]
     },
     "execution_count": 426,
     "metadata": {},
     "output_type": "execute_result"
    }
   ],
   "source": [
    "adult_df['native_country'].unique()"
   ]
  },
  {
   "cell_type": "code",
   "execution_count": 427,
   "id": "d62cc9c5-44b2-4d41-baa2-f72a6bc4d926",
   "metadata": {},
   "outputs": [
    {
     "name": "stderr",
     "output_type": "stream",
     "text": [
      "C:\\Users\\ADELINE PC\\AppData\\Local\\Temp\\ipykernel_3924\\2898317008.py:1: SettingWithCopyWarning: \n",
      "A value is trying to be set on a copy of a slice from a DataFrame.\n",
      "Try using .loc[row_indexer,col_indexer] = value instead\n",
      "\n",
      "See the caveats in the documentation: https://pandas.pydata.org/pandas-docs/stable/user_guide/indexing.html#returning-a-view-versus-a-copy\n",
      "  adult_df['native_region'] = adult_df['native_country'].replace({\n"
     ]
    }
   ],
   "source": [
    "adult_df['native_region'] = adult_df['native_country'].replace({\n",
    "    'united-states': 'north_america', \n",
    "    'cuba': 'central_america', \n",
    "    'jamaica': 'central_america', \n",
    "    'india': 'asia', \n",
    "    'other': 'other', \n",
    "    'mexico': 'north_america', \n",
    "    'south': 'south_america',\n",
    "    'puerto-rico': 'north_america', \n",
    "    'honduras': 'central_america', \n",
    "    'england': 'europe', \n",
    "    'canada': 'north_america',\n",
    "    'germany': 'europe',\n",
    "    'iran': 'asia', \n",
    "    'philippines': 'asia', \n",
    "    'italy': 'europe',\n",
    "    'poland':'europe',\n",
    "    'columbia':'south_america', \n",
    "    'cambodia':'asia',\n",
    "    'thailand':'asia', \n",
    "    'ecuador':'south_america', \n",
    "    'laos':'asia', \n",
    "    'taiwan':'asia', \n",
    "    'haiti':'central_america', \n",
    "    'portugal':'europe',\n",
    "    'dominican-republic':'central_america', \n",
    "    'el-salvador':'central_america',\n",
    "    'france':'europe', \n",
    "    'guatemala':'central_america',\n",
    "    'china':'asia', \n",
    "    'japan':'asia', \n",
    "    'yugoslavia':'europe',\n",
    "    'peru':'south_america',\n",
    "    'outlying-us(guam-usvi-etc)':'north_america',\n",
    "    'scotland':'europe',\n",
    "    'trinadad&tobago':'central_america',\n",
    "    'greece':'europe', \n",
    "    'nicaragua':'central_america', \n",
    "    'vietnam':'asia',\n",
    "    'hong':'asia', \n",
    "    'ireland':'europe', \n",
    "    'hungary':'europe',\n",
    "    'holand-netherlands':'europe'\n",
    "})"
   ]
  },
  {
   "cell_type": "code",
   "execution_count": 428,
   "id": "02e27274-0fba-4158-87d5-2812da29bb4a",
   "metadata": {},
   "outputs": [
    {
     "data": {
      "text/plain": [
       "array(['north_america', 'central_america', 'asia', 'other',\n",
       "       'south_america', 'europe'], dtype=object)"
      ]
     },
     "execution_count": 428,
     "metadata": {},
     "output_type": "execute_result"
    }
   ],
   "source": [
    "adult_df['native_region'].unique()"
   ]
  },
  {
   "cell_type": "code",
   "execution_count": null,
   "id": "91049144-483a-4d18-a5b1-8013ad4cda21",
   "metadata": {},
   "outputs": [],
   "source": []
  }
 ],
 "metadata": {
  "kernelspec": {
   "display_name": "Python [conda env:base] *",
   "language": "python",
   "name": "conda-base-py"
  },
  "language_info": {
   "codemirror_mode": {
    "name": "ipython",
    "version": 3
   },
   "file_extension": ".py",
   "mimetype": "text/x-python",
   "name": "python",
   "nbconvert_exporter": "python",
   "pygments_lexer": "ipython3",
   "version": "3.12.4"
  }
 },
 "nbformat": 4,
 "nbformat_minor": 5
}
